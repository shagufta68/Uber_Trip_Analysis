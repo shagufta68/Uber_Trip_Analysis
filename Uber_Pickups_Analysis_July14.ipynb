{
 "cells": [
  {
   "cell_type": "code",
   "execution_count": 1,
   "id": "53a1b3c2",
   "metadata": {},
   "outputs": [],
   "source": [
    "import pandas as pd\n",
    "df=pd.read_csv('uber-raw-data-jul14.csv')"
   ]
  },
  {
   "cell_type": "code",
   "execution_count": 2,
   "id": "5120494f",
   "metadata": {},
   "outputs": [
    {
     "data": {
      "text/html": [
       "<div>\n",
       "<style scoped>\n",
       "    .dataframe tbody tr th:only-of-type {\n",
       "        vertical-align: middle;\n",
       "    }\n",
       "\n",
       "    .dataframe tbody tr th {\n",
       "        vertical-align: top;\n",
       "    }\n",
       "\n",
       "    .dataframe thead th {\n",
       "        text-align: right;\n",
       "    }\n",
       "</style>\n",
       "<table border=\"1\" class=\"dataframe\">\n",
       "  <thead>\n",
       "    <tr style=\"text-align: right;\">\n",
       "      <th></th>\n",
       "      <th>Date/Time</th>\n",
       "      <th>Lat</th>\n",
       "      <th>Lon</th>\n",
       "      <th>Base</th>\n",
       "    </tr>\n",
       "  </thead>\n",
       "  <tbody>\n",
       "    <tr>\n",
       "      <th>0</th>\n",
       "      <td>7/1/2014 0:03:00</td>\n",
       "      <td>40.7586</td>\n",
       "      <td>-73.9706</td>\n",
       "      <td>B02512</td>\n",
       "    </tr>\n",
       "    <tr>\n",
       "      <th>1</th>\n",
       "      <td>7/1/2014 0:05:00</td>\n",
       "      <td>40.7605</td>\n",
       "      <td>-73.9994</td>\n",
       "      <td>B02512</td>\n",
       "    </tr>\n",
       "    <tr>\n",
       "      <th>2</th>\n",
       "      <td>7/1/2014 0:06:00</td>\n",
       "      <td>40.7320</td>\n",
       "      <td>-73.9999</td>\n",
       "      <td>B02512</td>\n",
       "    </tr>\n",
       "    <tr>\n",
       "      <th>3</th>\n",
       "      <td>7/1/2014 0:09:00</td>\n",
       "      <td>40.7635</td>\n",
       "      <td>-73.9793</td>\n",
       "      <td>B02512</td>\n",
       "    </tr>\n",
       "    <tr>\n",
       "      <th>4</th>\n",
       "      <td>7/1/2014 0:20:00</td>\n",
       "      <td>40.7204</td>\n",
       "      <td>-74.0047</td>\n",
       "      <td>B02512</td>\n",
       "    </tr>\n",
       "    <tr>\n",
       "      <th>...</th>\n",
       "      <td>...</td>\n",
       "      <td>...</td>\n",
       "      <td>...</td>\n",
       "      <td>...</td>\n",
       "    </tr>\n",
       "    <tr>\n",
       "      <th>796116</th>\n",
       "      <td>7/31/2014 23:22:00</td>\n",
       "      <td>40.7285</td>\n",
       "      <td>-73.9846</td>\n",
       "      <td>B02764</td>\n",
       "    </tr>\n",
       "    <tr>\n",
       "      <th>796117</th>\n",
       "      <td>7/31/2014 23:23:00</td>\n",
       "      <td>40.7615</td>\n",
       "      <td>-73.9868</td>\n",
       "      <td>B02764</td>\n",
       "    </tr>\n",
       "    <tr>\n",
       "      <th>796118</th>\n",
       "      <td>7/31/2014 23:29:00</td>\n",
       "      <td>40.6770</td>\n",
       "      <td>-73.9515</td>\n",
       "      <td>B02764</td>\n",
       "    </tr>\n",
       "    <tr>\n",
       "      <th>796119</th>\n",
       "      <td>7/31/2014 23:30:00</td>\n",
       "      <td>40.7225</td>\n",
       "      <td>-74.0038</td>\n",
       "      <td>B02764</td>\n",
       "    </tr>\n",
       "    <tr>\n",
       "      <th>796120</th>\n",
       "      <td>7/31/2014 23:58:00</td>\n",
       "      <td>40.7199</td>\n",
       "      <td>-73.9884</td>\n",
       "      <td>B02764</td>\n",
       "    </tr>\n",
       "  </tbody>\n",
       "</table>\n",
       "<p>796121 rows × 4 columns</p>\n",
       "</div>"
      ],
      "text/plain": [
       "                 Date/Time      Lat      Lon    Base\n",
       "0         7/1/2014 0:03:00  40.7586 -73.9706  B02512\n",
       "1         7/1/2014 0:05:00  40.7605 -73.9994  B02512\n",
       "2         7/1/2014 0:06:00  40.7320 -73.9999  B02512\n",
       "3         7/1/2014 0:09:00  40.7635 -73.9793  B02512\n",
       "4         7/1/2014 0:20:00  40.7204 -74.0047  B02512\n",
       "...                    ...      ...      ...     ...\n",
       "796116  7/31/2014 23:22:00  40.7285 -73.9846  B02764\n",
       "796117  7/31/2014 23:23:00  40.7615 -73.9868  B02764\n",
       "796118  7/31/2014 23:29:00  40.6770 -73.9515  B02764\n",
       "796119  7/31/2014 23:30:00  40.7225 -74.0038  B02764\n",
       "796120  7/31/2014 23:58:00  40.7199 -73.9884  B02764\n",
       "\n",
       "[796121 rows x 4 columns]"
      ]
     },
     "metadata": {},
     "output_type": "display_data"
    }
   ],
   "source": [
    "display(df)"
   ]
  },
  {
   "cell_type": "code",
   "execution_count": 3,
   "id": "20ea992b",
   "metadata": {},
   "outputs": [
    {
     "name": "stdout",
     "output_type": "stream",
     "text": [
      "<class 'pandas.core.frame.DataFrame'>\n",
      "RangeIndex: 796121 entries, 0 to 796120\n",
      "Data columns (total 4 columns):\n",
      " #   Column     Non-Null Count   Dtype  \n",
      "---  ------     --------------   -----  \n",
      " 0   Date/Time  796121 non-null  object \n",
      " 1   Lat        796121 non-null  float64\n",
      " 2   Lon        796121 non-null  float64\n",
      " 3   Base       796121 non-null  object \n",
      "dtypes: float64(2), object(2)\n",
      "memory usage: 24.3+ MB\n"
     ]
    }
   ],
   "source": [
    "df.info()"
   ]
  },
  {
   "cell_type": "code",
   "execution_count": 4,
   "id": "d097d1a9",
   "metadata": {
    "scrolled": true
   },
   "outputs": [
    {
     "data": {
      "text/html": [
       "<div>\n",
       "<style scoped>\n",
       "    .dataframe tbody tr th:only-of-type {\n",
       "        vertical-align: middle;\n",
       "    }\n",
       "\n",
       "    .dataframe tbody tr th {\n",
       "        vertical-align: top;\n",
       "    }\n",
       "\n",
       "    .dataframe thead th {\n",
       "        text-align: right;\n",
       "    }\n",
       "</style>\n",
       "<table border=\"1\" class=\"dataframe\">\n",
       "  <thead>\n",
       "    <tr style=\"text-align: right;\">\n",
       "      <th></th>\n",
       "      <th>Lat</th>\n",
       "      <th>Lon</th>\n",
       "    </tr>\n",
       "  </thead>\n",
       "  <tbody>\n",
       "    <tr>\n",
       "      <th>count</th>\n",
       "      <td>796121.000000</td>\n",
       "      <td>796121.000000</td>\n",
       "    </tr>\n",
       "    <tr>\n",
       "      <th>mean</th>\n",
       "      <td>40.739141</td>\n",
       "      <td>-73.972353</td>\n",
       "    </tr>\n",
       "    <tr>\n",
       "      <th>std</th>\n",
       "      <td>0.040551</td>\n",
       "      <td>0.058660</td>\n",
       "    </tr>\n",
       "    <tr>\n",
       "      <th>min</th>\n",
       "      <td>39.721400</td>\n",
       "      <td>-74.826000</td>\n",
       "    </tr>\n",
       "    <tr>\n",
       "      <th>25%</th>\n",
       "      <td>40.720900</td>\n",
       "      <td>-73.996100</td>\n",
       "    </tr>\n",
       "    <tr>\n",
       "      <th>50%</th>\n",
       "      <td>40.742500</td>\n",
       "      <td>-73.983200</td>\n",
       "    </tr>\n",
       "    <tr>\n",
       "      <th>75%</th>\n",
       "      <td>40.760800</td>\n",
       "      <td>-73.965100</td>\n",
       "    </tr>\n",
       "    <tr>\n",
       "      <th>max</th>\n",
       "      <td>41.341300</td>\n",
       "      <td>-72.309700</td>\n",
       "    </tr>\n",
       "  </tbody>\n",
       "</table>\n",
       "</div>"
      ],
      "text/plain": [
       "                 Lat            Lon\n",
       "count  796121.000000  796121.000000\n",
       "mean       40.739141     -73.972353\n",
       "std         0.040551       0.058660\n",
       "min        39.721400     -74.826000\n",
       "25%        40.720900     -73.996100\n",
       "50%        40.742500     -73.983200\n",
       "75%        40.760800     -73.965100\n",
       "max        41.341300     -72.309700"
      ]
     },
     "execution_count": 4,
     "metadata": {},
     "output_type": "execute_result"
    }
   ],
   "source": [
    "df.describe()"
   ]
  },
  {
   "cell_type": "code",
   "execution_count": 5,
   "id": "79d398ed",
   "metadata": {},
   "outputs": [
    {
     "name": "stdout",
     "output_type": "stream",
     "text": [
      "<class 'str'>\n"
     ]
    }
   ],
   "source": [
    "print(type(df.loc[0,'Date/Time']))"
   ]
  },
  {
   "cell_type": "code",
   "execution_count": 6,
   "id": "94c56492",
   "metadata": {},
   "outputs": [],
   "source": [
    "# make the datatype of date/time column in date/time\n",
    "df['Date/Time']=pd.to_datetime(df['Date/Time'])"
   ]
  },
  {
   "cell_type": "code",
   "execution_count": 7,
   "id": "e231db74",
   "metadata": {},
   "outputs": [
    {
     "name": "stdout",
     "output_type": "stream",
     "text": [
      "<class 'pandas._libs.tslibs.timestamps.Timestamp'>\n"
     ]
    }
   ],
   "source": [
    "print(type(df.loc[0,'Date/Time']))"
   ]
  },
  {
   "cell_type": "code",
   "execution_count": 8,
   "id": "432c9a95",
   "metadata": {},
   "outputs": [
    {
     "data": {
      "text/html": [
       "<div>\n",
       "<style scoped>\n",
       "    .dataframe tbody tr th:only-of-type {\n",
       "        vertical-align: middle;\n",
       "    }\n",
       "\n",
       "    .dataframe tbody tr th {\n",
       "        vertical-align: top;\n",
       "    }\n",
       "\n",
       "    .dataframe thead th {\n",
       "        text-align: right;\n",
       "    }\n",
       "</style>\n",
       "<table border=\"1\" class=\"dataframe\">\n",
       "  <thead>\n",
       "    <tr style=\"text-align: right;\">\n",
       "      <th></th>\n",
       "      <th>Date/Time</th>\n",
       "      <th>Lat</th>\n",
       "      <th>Lon</th>\n",
       "      <th>Base</th>\n",
       "    </tr>\n",
       "  </thead>\n",
       "  <tbody>\n",
       "    <tr>\n",
       "      <th>0</th>\n",
       "      <td>2014-07-01 00:03:00</td>\n",
       "      <td>40.7586</td>\n",
       "      <td>-73.9706</td>\n",
       "      <td>B02512</td>\n",
       "    </tr>\n",
       "    <tr>\n",
       "      <th>1</th>\n",
       "      <td>2014-07-01 00:05:00</td>\n",
       "      <td>40.7605</td>\n",
       "      <td>-73.9994</td>\n",
       "      <td>B02512</td>\n",
       "    </tr>\n",
       "    <tr>\n",
       "      <th>2</th>\n",
       "      <td>2014-07-01 00:06:00</td>\n",
       "      <td>40.7320</td>\n",
       "      <td>-73.9999</td>\n",
       "      <td>B02512</td>\n",
       "    </tr>\n",
       "    <tr>\n",
       "      <th>3</th>\n",
       "      <td>2014-07-01 00:09:00</td>\n",
       "      <td>40.7635</td>\n",
       "      <td>-73.9793</td>\n",
       "      <td>B02512</td>\n",
       "    </tr>\n",
       "    <tr>\n",
       "      <th>4</th>\n",
       "      <td>2014-07-01 00:20:00</td>\n",
       "      <td>40.7204</td>\n",
       "      <td>-74.0047</td>\n",
       "      <td>B02512</td>\n",
       "    </tr>\n",
       "  </tbody>\n",
       "</table>\n",
       "</div>"
      ],
      "text/plain": [
       "            Date/Time      Lat      Lon    Base\n",
       "0 2014-07-01 00:03:00  40.7586 -73.9706  B02512\n",
       "1 2014-07-01 00:05:00  40.7605 -73.9994  B02512\n",
       "2 2014-07-01 00:06:00  40.7320 -73.9999  B02512\n",
       "3 2014-07-01 00:09:00  40.7635 -73.9793  B02512\n",
       "4 2014-07-01 00:20:00  40.7204 -74.0047  B02512"
      ]
     },
     "execution_count": 8,
     "metadata": {},
     "output_type": "execute_result"
    }
   ],
   "source": [
    "df.head()"
   ]
  },
  {
   "cell_type": "code",
   "execution_count": 9,
   "id": "4bbd84b5",
   "metadata": {},
   "outputs": [
    {
     "data": {
      "text/plain": [
       "0        2014-07-01 00:00:00\n",
       "1        2014-07-01 00:00:00\n",
       "2        2014-07-01 00:00:00\n",
       "3        2014-07-01 00:00:00\n",
       "4        2014-07-01 00:15:00\n",
       "                 ...        \n",
       "796116   2014-07-31 23:15:00\n",
       "796117   2014-07-31 23:15:00\n",
       "796118   2014-07-31 23:15:00\n",
       "796119   2014-07-31 23:30:00\n",
       "796120   2014-07-31 23:45:00\n",
       "Name: Date/Time, Length: 796121, dtype: datetime64[ns]"
      ]
     },
     "execution_count": 9,
     "metadata": {},
     "output_type": "execute_result"
    }
   ],
   "source": [
    "df['Date/Time'].dt.floor('15min')"
   ]
  },
  {
   "cell_type": "code",
   "execution_count": 10,
   "id": "f0743e99",
   "metadata": {},
   "outputs": [],
   "source": [
    "df['BinnedHour']=df['Date/Time'].dt.floor('15min')"
   ]
  },
  {
   "cell_type": "code",
   "execution_count": 11,
   "id": "b595be40",
   "metadata": {},
   "outputs": [
    {
     "data": {
      "text/html": [
       "<div>\n",
       "<style scoped>\n",
       "    .dataframe tbody tr th:only-of-type {\n",
       "        vertical-align: middle;\n",
       "    }\n",
       "\n",
       "    .dataframe tbody tr th {\n",
       "        vertical-align: top;\n",
       "    }\n",
       "\n",
       "    .dataframe thead th {\n",
       "        text-align: right;\n",
       "    }\n",
       "</style>\n",
       "<table border=\"1\" class=\"dataframe\">\n",
       "  <thead>\n",
       "    <tr style=\"text-align: right;\">\n",
       "      <th></th>\n",
       "      <th>Date/Time</th>\n",
       "      <th>Lat</th>\n",
       "      <th>Lon</th>\n",
       "      <th>Base</th>\n",
       "      <th>BinnedHour</th>\n",
       "    </tr>\n",
       "  </thead>\n",
       "  <tbody>\n",
       "    <tr>\n",
       "      <th>0</th>\n",
       "      <td>2014-07-01 00:03:00</td>\n",
       "      <td>40.7586</td>\n",
       "      <td>-73.9706</td>\n",
       "      <td>B02512</td>\n",
       "      <td>2014-07-01 00:00:00</td>\n",
       "    </tr>\n",
       "    <tr>\n",
       "      <th>1</th>\n",
       "      <td>2014-07-01 00:05:00</td>\n",
       "      <td>40.7605</td>\n",
       "      <td>-73.9994</td>\n",
       "      <td>B02512</td>\n",
       "      <td>2014-07-01 00:00:00</td>\n",
       "    </tr>\n",
       "    <tr>\n",
       "      <th>2</th>\n",
       "      <td>2014-07-01 00:06:00</td>\n",
       "      <td>40.7320</td>\n",
       "      <td>-73.9999</td>\n",
       "      <td>B02512</td>\n",
       "      <td>2014-07-01 00:00:00</td>\n",
       "    </tr>\n",
       "    <tr>\n",
       "      <th>3</th>\n",
       "      <td>2014-07-01 00:09:00</td>\n",
       "      <td>40.7635</td>\n",
       "      <td>-73.9793</td>\n",
       "      <td>B02512</td>\n",
       "      <td>2014-07-01 00:00:00</td>\n",
       "    </tr>\n",
       "    <tr>\n",
       "      <th>4</th>\n",
       "      <td>2014-07-01 00:20:00</td>\n",
       "      <td>40.7204</td>\n",
       "      <td>-74.0047</td>\n",
       "      <td>B02512</td>\n",
       "      <td>2014-07-01 00:15:00</td>\n",
       "    </tr>\n",
       "  </tbody>\n",
       "</table>\n",
       "</div>"
      ],
      "text/plain": [
       "            Date/Time      Lat      Lon    Base          BinnedHour\n",
       "0 2014-07-01 00:03:00  40.7586 -73.9706  B02512 2014-07-01 00:00:00\n",
       "1 2014-07-01 00:05:00  40.7605 -73.9994  B02512 2014-07-01 00:00:00\n",
       "2 2014-07-01 00:06:00  40.7320 -73.9999  B02512 2014-07-01 00:00:00\n",
       "3 2014-07-01 00:09:00  40.7635 -73.9793  B02512 2014-07-01 00:00:00\n",
       "4 2014-07-01 00:20:00  40.7204 -74.0047  B02512 2014-07-01 00:15:00"
      ]
     },
     "metadata": {},
     "output_type": "display_data"
    }
   ],
   "source": [
    "display(df.head(5))"
   ]
  },
  {
   "cell_type": "markdown",
   "id": "84ab808b",
   "metadata": {},
   "source": [
    "### Count of rides by day of month"
   ]
  },
  {
   "cell_type": "code",
   "execution_count": 12,
   "id": "60cf86f4",
   "metadata": {},
   "outputs": [
    {
     "data": {
      "text/plain": [
       "Text(0, 0.5, 'Riders')"
      ]
     },
     "execution_count": 12,
     "metadata": {},
     "output_type": "execute_result"
    },
    {
     "data": {
      "image/png": "[encoded data removed]",
      "text/plain": [
       "<Figure size 1008x504 with 1 Axes>"
      ]
     },
     "metadata": {
      "needs_background": "light"
     },
     "output_type": "display_data"
    }
   ],
   "source": [
    "import matplotlib.pyplot as plt\n",
    "plt.figure(figsize=(14,7)) #size\n",
    "df['BinnedHour'].dt.day.value_counts().sort_index().plot(kind='bar',color='green') # ona aparticular day count,.dt is very much helpful when we are working with timespan.\n",
    "for item in plt.gca().get_xticklabels(): # rotate labels\n",
    "    item.set_rotation(45)\n",
    "plt.title('Uber Rides per day in july 2014 at NYC')\n",
    "plt.xlabel('Days')\n",
    "plt.ylabel('Riders')"
   ]
  },
  {
   "cell_type": "markdown",
   "id": "8f21a579",
   "metadata": {},
   "source": [
    "### Rides in everyday in the interval of 15 min"
   ]
  },
  {
   "cell_type": "code",
   "execution_count": 13,
   "id": "98ed59fe",
   "metadata": {},
   "outputs": [
    {
     "data": {
      "text/plain": [
       "Text(0, 0.5, 'No. of Riders')"
      ]
     },
     "execution_count": 13,
     "metadata": {},
     "output_type": "execute_result"
    },
    {
     "data": {
      "image/png": "[encoded data removed]",
      "text/plain": [
       "<Figure size 1008x648 with 1 Axes>"
      ]
     },
     "metadata": {
      "needs_background": "light"
     },
     "output_type": "display_data"
    }
   ],
   "source": [
    "plt.figure(figsize=(14,9))\n",
    "df['BinnedHour'].value_counts().sort_index().plot(c='darkblue')\n",
    "plt.title('Uber Rides every 15 min in the month of july at NYC')\n",
    "plt.xlabel('Days')\n",
    "plt.ylabel('No. of Riders')"
   ]
  },
  {
   "cell_type": "markdown",
   "id": "139ecbed",
   "metadata": {},
   "source": [
    "### Count of rides in every 15 min"
   ]
  },
  {
   "cell_type": "code",
   "execution_count": 14,
   "id": "3309bc69",
   "metadata": {},
   "outputs": [
    {
     "data": {
      "text/plain": [
       "2014-07-15 19:15:00    915\n",
       "2014-07-15 18:15:00    879\n",
       "2014-07-15 17:45:00    877\n",
       "2014-07-15 18:00:00    872\n",
       "2014-07-15 20:00:00    861\n",
       "                      ... \n",
       "2014-07-01 02:00:00     17\n",
       "2014-07-07 01:45:00     15\n",
       "2014-07-07 02:15:00     14\n",
       "2014-07-07 02:00:00     12\n",
       "2014-07-07 02:30:00     10\n",
       "Name: BinnedHour, Length: 2976, dtype: int64"
      ]
     },
     "execution_count": 14,
     "metadata": {},
     "output_type": "execute_result"
    }
   ],
   "source": [
    "df['BinnedHour'].value_counts()"
   ]
  },
  {
   "cell_type": "code",
   "execution_count": 15,
   "id": "409de94e",
   "metadata": {},
   "outputs": [],
   "source": [
    "# Mapping of days  \n",
    "DayMap = {0:'Monday', \n",
    "          1:'Tuesday', \n",
    "          2:'Wednesday', \n",
    "          3:'Thursday', \n",
    "          4:'Friday',\n",
    "          5:'Saturday',\n",
    "          6:'Sunday'}"
   ]
  },
  {
   "cell_type": "code",
   "execution_count": 16,
   "id": "0557dc05",
   "metadata": {},
   "outputs": [],
   "source": [
    "# create day column \n",
    "df['Day']=df['BinnedHour'].dt.weekday.map(DayMap)"
   ]
  },
  {
   "cell_type": "code",
   "execution_count": 17,
   "id": "c784bbd1",
   "metadata": {},
   "outputs": [],
   "source": [
    "# create date as a separate column\n",
    "df['Date']=df['BinnedHour'].dt.date\n",
    "# create time as a separate column\n",
    "df['Time']=df['BinnedHour'].dt.time"
   ]
  },
  {
   "cell_type": "code",
   "execution_count": 18,
   "id": "89a19934",
   "metadata": {},
   "outputs": [
    {
     "data": {
      "text/html": [
       "<div>\n",
       "<style scoped>\n",
       "    .dataframe tbody tr th:only-of-type {\n",
       "        vertical-align: middle;\n",
       "    }\n",
       "\n",
       "    .dataframe tbody tr th {\n",
       "        vertical-align: top;\n",
       "    }\n",
       "\n",
       "    .dataframe thead th {\n",
       "        text-align: right;\n",
       "    }\n",
       "</style>\n",
       "<table border=\"1\" class=\"dataframe\">\n",
       "  <thead>\n",
       "    <tr style=\"text-align: right;\">\n",
       "      <th></th>\n",
       "      <th>Date/Time</th>\n",
       "      <th>Lat</th>\n",
       "      <th>Lon</th>\n",
       "      <th>Base</th>\n",
       "      <th>BinnedHour</th>\n",
       "      <th>Day</th>\n",
       "      <th>Date</th>\n",
       "      <th>Time</th>\n",
       "    </tr>\n",
       "  </thead>\n",
       "  <tbody>\n",
       "    <tr>\n",
       "      <th>0</th>\n",
       "      <td>2014-07-01 00:03:00</td>\n",
       "      <td>40.7586</td>\n",
       "      <td>-73.9706</td>\n",
       "      <td>B02512</td>\n",
       "      <td>2014-07-01 00:00:00</td>\n",
       "      <td>Tuesday</td>\n",
       "      <td>2014-07-01</td>\n",
       "      <td>00:00:00</td>\n",
       "    </tr>\n",
       "    <tr>\n",
       "      <th>1</th>\n",
       "      <td>2014-07-01 00:05:00</td>\n",
       "      <td>40.7605</td>\n",
       "      <td>-73.9994</td>\n",
       "      <td>B02512</td>\n",
       "      <td>2014-07-01 00:00:00</td>\n",
       "      <td>Tuesday</td>\n",
       "      <td>2014-07-01</td>\n",
       "      <td>00:00:00</td>\n",
       "    </tr>\n",
       "    <tr>\n",
       "      <th>2</th>\n",
       "      <td>2014-07-01 00:06:00</td>\n",
       "      <td>40.7320</td>\n",
       "      <td>-73.9999</td>\n",
       "      <td>B02512</td>\n",
       "      <td>2014-07-01 00:00:00</td>\n",
       "      <td>Tuesday</td>\n",
       "      <td>2014-07-01</td>\n",
       "      <td>00:00:00</td>\n",
       "    </tr>\n",
       "    <tr>\n",
       "      <th>3</th>\n",
       "      <td>2014-07-01 00:09:00</td>\n",
       "      <td>40.7635</td>\n",
       "      <td>-73.9793</td>\n",
       "      <td>B02512</td>\n",
       "      <td>2014-07-01 00:00:00</td>\n",
       "      <td>Tuesday</td>\n",
       "      <td>2014-07-01</td>\n",
       "      <td>00:00:00</td>\n",
       "    </tr>\n",
       "    <tr>\n",
       "      <th>4</th>\n",
       "      <td>2014-07-01 00:20:00</td>\n",
       "      <td>40.7204</td>\n",
       "      <td>-74.0047</td>\n",
       "      <td>B02512</td>\n",
       "      <td>2014-07-01 00:15:00</td>\n",
       "      <td>Tuesday</td>\n",
       "      <td>2014-07-01</td>\n",
       "      <td>00:15:00</td>\n",
       "    </tr>\n",
       "  </tbody>\n",
       "</table>\n",
       "</div>"
      ],
      "text/plain": [
       "            Date/Time      Lat      Lon    Base          BinnedHour      Day  \\\n",
       "0 2014-07-01 00:03:00  40.7586 -73.9706  B02512 2014-07-01 00:00:00  Tuesday   \n",
       "1 2014-07-01 00:05:00  40.7605 -73.9994  B02512 2014-07-01 00:00:00  Tuesday   \n",
       "2 2014-07-01 00:06:00  40.7320 -73.9999  B02512 2014-07-01 00:00:00  Tuesday   \n",
       "3 2014-07-01 00:09:00  40.7635 -73.9793  B02512 2014-07-01 00:00:00  Tuesday   \n",
       "4 2014-07-01 00:20:00  40.7204 -74.0047  B02512 2014-07-01 00:15:00  Tuesday   \n",
       "\n",
       "         Date      Time  \n",
       "0  2014-07-01  00:00:00  \n",
       "1  2014-07-01  00:00:00  \n",
       "2  2014-07-01  00:00:00  \n",
       "3  2014-07-01  00:00:00  \n",
       "4  2014-07-01  00:15:00  "
      ]
     },
     "execution_count": 18,
     "metadata": {},
     "output_type": "execute_result"
    }
   ],
   "source": [
    "df.head()"
   ]
  },
  {
   "cell_type": "markdown",
   "id": "983f2a20",
   "metadata": {},
   "source": [
    "### Day vise value rides"
   ]
  },
  {
   "cell_type": "code",
   "execution_count": 19,
   "id": "63ffedde",
   "metadata": {},
   "outputs": [
    {
     "data": {
      "text/plain": [
       "<AxesSubplot:>"
      ]
     },
     "execution_count": 19,
     "metadata": {},
     "output_type": "execute_result"
    },
    {
     "data": {
      "image/png": "[encoded data removed]",
      "text/plain": [
       "<Figure size 432x288 with 1 Axes>"
      ]
     },
     "metadata": {
      "needs_background": "light"
     },
     "output_type": "display_data"
    }
   ],
   "source": [
    "df['Day'].value_counts().plot(kind='bar')"
   ]
  },
  {
   "cell_type": "code",
   "execution_count": 20,
   "id": "3dd96ac3",
   "metadata": {},
   "outputs": [],
   "source": [
    "df['Day'] = pd.Categorical(df['Day'], \n",
    "                                  categories=['Monday','Tuesday','Wednesday','Thursday','Friday','Saturday','Sunday'],\n",
    "                                  ordered=True)"
   ]
  },
  {
   "cell_type": "code",
   "execution_count": 21,
   "id": "9c71aa6b",
   "metadata": {},
   "outputs": [
    {
     "data": {
      "text/plain": [
       "0          Tuesday\n",
       "1          Tuesday\n",
       "2          Tuesday\n",
       "3          Tuesday\n",
       "4          Tuesday\n",
       "            ...   \n",
       "796116    Thursday\n",
       "796117    Thursday\n",
       "796118    Thursday\n",
       "796119    Thursday\n",
       "796120    Thursday\n",
       "Name: Day, Length: 796121, dtype: category\n",
       "Categories (7, object): ['Monday' < 'Tuesday' < 'Wednesday' < 'Thursday' < 'Friday' < 'Saturday' < 'Sunday']"
      ]
     },
     "metadata": {},
     "output_type": "display_data"
    }
   ],
   "source": [
    "display(df['Day'])"
   ]
  },
  {
   "cell_type": "markdown",
   "id": "07bacf0e",
   "metadata": {},
   "source": [
    "### Total Riders by week day"
   ]
  },
  {
   "cell_type": "code",
   "execution_count": 22,
   "id": "ae3063be",
   "metadata": {},
   "outputs": [
    {
     "data": {
      "text/plain": [
       "Text(0, 0.5, 'Total rides')"
      ]
     },
     "execution_count": 22,
     "metadata": {},
     "output_type": "execute_result"
    },
    {
     "data": {
      "image/png": "[encoded data removed]",
      "text/plain": [
       "<Figure size 432x288 with 1 Axes>"
      ]
     },
     "metadata": {
      "needs_background": "light"
     },
     "output_type": "display_data"
    }
   ],
   "source": [
    "df['Day'].value_counts().sort_index().plot(kind='bar')\n",
    "plt.title('Total Riders by week day in july 2014 at NYC')\n",
    "plt.ylabel('Total rides')"
   ]
  },
  {
   "cell_type": "code",
   "execution_count": 23,
   "id": "4f3e24f4",
   "metadata": {},
   "outputs": [],
   "source": [
    "newdf=df.groupby(['Date','Day','Time']).count().dropna()\n",
    "newdf=newdf.rename(columns={'BinnedHour':'Rides'})['Rides']"
   ]
  },
  {
   "cell_type": "code",
   "execution_count": 24,
   "id": "75a6140a",
   "metadata": {},
   "outputs": [
    {
     "data": {
      "text/plain": [
       "Date        Day     Time    \n",
       "2014-07-01  Monday  00:00:00    0\n",
       "                    00:15:00    0\n",
       "                    00:30:00    0\n",
       "                    00:45:00    0\n",
       "                    01:00:00    0\n",
       "                               ..\n",
       "2014-07-31  Sunday  22:45:00    0\n",
       "                    23:00:00    0\n",
       "                    23:15:00    0\n",
       "                    23:30:00    0\n",
       "                    23:45:00    0\n",
       "Name: Rides, Length: 20832, dtype: int64"
      ]
     },
     "metadata": {},
     "output_type": "display_data"
    }
   ],
   "source": [
    "display(newdf)"
   ]
  },
  {
   "cell_type": "code",
   "execution_count": 25,
   "id": "4715319b",
   "metadata": {},
   "outputs": [
    {
     "data": {
      "text/plain": [
       "Date        Day     Time    \n",
       "2014-07-01  Monday  00:00:00    0\n",
       "                    00:15:00    0\n",
       "                    00:30:00    0\n",
       "                    00:45:00    0\n",
       "                    01:00:00    0\n",
       "                               ..\n",
       "2014-07-31  Sunday  22:45:00    0\n",
       "                    23:00:00    0\n",
       "                    23:15:00    0\n",
       "                    23:30:00    0\n",
       "                    23:45:00    0\n",
       "Name: Rides, Length: 20832, dtype: int64"
      ]
     },
     "execution_count": 25,
     "metadata": {},
     "output_type": "execute_result"
    }
   ],
   "source": [
    "newdf"
   ]
  },
  {
   "cell_type": "code",
   "execution_count": 26,
   "id": "916410f7",
   "metadata": {},
   "outputs": [
    {
     "data": {
      "text/plain": [
       "Day\n",
       "Monday        93189\n",
       "Tuesday      137454\n",
       "Wednesday    147717\n",
       "Thursday     148439\n",
       "Friday       102735\n",
       "Saturday      90260\n",
       "Sunday        76327\n",
       "Name: Rides, dtype: int64"
      ]
     },
     "execution_count": 26,
     "metadata": {},
     "output_type": "execute_result"
    }
   ],
   "source": [
    "newdf.groupby('Day').sum()"
   ]
  },
  {
   "cell_type": "code",
   "execution_count": 27,
   "id": "14f63f93",
   "metadata": {},
   "outputs": [
    {
     "data": {
      "image/png": "[encoded data removed]",
      "text/plain": [
       "<Figure size 432x288 with 1 Axes>"
      ]
     },
     "metadata": {
      "needs_background": "light"
     },
     "output_type": "display_data"
    }
   ],
   "source": [
    "newdf.plot(ax=plt.gca())\n",
    "plt.locator_params(axis='x',nbins=10)"
   ]
  }
 ],
 "metadata": {
  "kernelspec": {
   "display_name": "Python 3 (ipykernel)",
   "language": "python",
   "name": "python3"
  },
  "language_info": {
   "codemirror_mode": {
    "name": "ipython",
    "version": 3
   },
   "file_extension": ".py",
   "mimetype": "text/x-python",
   "name": "python",
   "nbconvert_exporter": "python",
   "pygments_lexer": "ipython3",
   "version": "3.10.5"
  }
 },
 "nbformat": 4,
 "nbformat_minor": 5
}
